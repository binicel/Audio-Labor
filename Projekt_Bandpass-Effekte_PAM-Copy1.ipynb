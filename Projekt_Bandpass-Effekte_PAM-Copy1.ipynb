{
 "cells": [
  {
   "cell_type": "code",
   "execution_count": null,
   "id": "8f1080d1-286c-4c0d-8040-16f26f2d7c7c",
   "metadata": {},
   "outputs": [],
   "source": [
    "import ipywidgets as widgets\n",
    "import numpy as numpy\n",
    "import thinkdsp as thinkdsp\n",
    "from thinkdsp import read_wave\n",
    "from thinkdsp import decorate\n",
    "import scipy\n",
    "import matplotlib.pyplot as plt"
   ]
  },
  {
   "cell_type": "code",
   "execution_count": null,
   "id": "cf7d9101-533d-466f-804a-8a2c7cbccdca",
   "metadata": {},
   "outputs": [],
   "source": [
    "def band_pass(self, lowcut, highcut, factor=0):\n",
    "   self.hs[abs(self.fs) > highcut] *= factor\n",
    "   self.hs[abs(self.fs) < lowcut] *= factor\n"
   ]
  },
  {
   "cell_type": "code",
   "execution_count": null,
   "id": "6f42c7ff-6f79-4bb5-ac5e-b34a4fc8ee3a",
   "metadata": {
    "tags": []
   },
   "outputs": [],
   "source": [
    "bandwidth = widgets.IntRangeSlider(\n",
    "    value=[1000, 5000],\n",
    "    min=0,\n",
    "    max=20000,\n",
    "    step=10,\n",
    "    description='Frequency in Hz:',\n",
    "    orientation='horizontal',\n",
    "    continuous_update=False,\n",
    ")"
   ]
  },
  {
   "cell_type": "code",
   "execution_count": null,
   "id": "876aa1a6-7f6d-42b7-9aa0-75f00d7e3226",
   "metadata": {},
   "outputs": [],
   "source": [
    "def function (bandwidth):\n",
    "    display(bandwidth)"
   ]
  },
  {
   "cell_type": "code",
   "execution_count": null,
   "id": "7a17de05-09fd-4bdd-9151-f47df6c7e801",
   "metadata": {},
   "outputs": [],
   "source": [
    "output = widgets.interactive_output(function, {'bandwidth' : bandwidth})\n",
    "\n",
    "display(bandwidth, output)"
   ]
  },
  {
   "cell_type": "code",
   "execution_count": null,
   "id": "1d9483c9-40e6-4479-a195-e58679be58d7",
   "metadata": {},
   "outputs": [],
   "source": [
    "bandwidth.value[0]"
   ]
  },
  {
   "cell_type": "code",
   "execution_count": null,
   "id": "6f96bd6e-4002-4547-99c9-398ccb8ed461",
   "metadata": {},
   "outputs": [],
   "source": [
    "lower, upper = bandwidth.value"
   ]
  },
  {
   "cell_type": "code",
   "execution_count": null,
   "id": "518bf05a-d0ce-45c7-a37d-7cf2f1a29945",
   "metadata": {},
   "outputs": [],
   "source": [
    "lower, upper"
   ]
  },
  {
   "cell_type": "code",
   "execution_count": null,
   "id": "ac9d021f-fe70-4eab-a488-2d542cf5d118",
   "metadata": {},
   "outputs": [],
   "source": [
    "wave = read_wave('Gorillaz - Clint Eastwood.wav')"
   ]
  },
  {
   "cell_type": "code",
   "execution_count": null,
   "id": "ef11a289-57ad-444e-8eac-2907b3249d8b",
   "metadata": {},
   "outputs": [],
   "source": [
    "wave.make_audio()"
   ]
  },
  {
   "cell_type": "code",
   "execution_count": null,
   "id": "652dd18f-d84a-47f5-9dae-ffa0af7b6c65",
   "metadata": {},
   "outputs": [],
   "source": [
    "wave.plot()\n",
    "plt.grid(True)\n",
    "decorate(xlabel='Time (s)')"
   ]
  },
  {
   "cell_type": "code",
   "execution_count": null,
   "id": "b275a1c4-e4df-440e-8690-9399c71b2cc7",
   "metadata": {},
   "outputs": [],
   "source": [
    "spectrum = wave.make_spectrum()"
   ]
  },
  {
   "cell_type": "code",
   "execution_count": null,
   "id": "c8530e21-a6bf-4fe5-9acb-639fce23b402",
   "metadata": {},
   "outputs": [],
   "source": [
    "spectrum.plot()\n",
    "plt.axis([0, 25000, 0 ,2500])\n",
    "plt.grid(True)\n",
    "decorate(xlabel='Time (s)')"
   ]
  },
  {
   "cell_type": "code",
   "execution_count": null,
   "id": "8fd42548-ae4c-4a34-9d6c-4f3b5b46f608",
   "metadata": {},
   "outputs": [],
   "source": [
    "band_pass(spectrum, lowcut = lower, highcut= upper)"
   ]
  },
  {
   "cell_type": "code",
   "execution_count": null,
   "id": "4cfdbf8f-e1da-45fd-8687-b2e99a28d495",
   "metadata": {},
   "outputs": [],
   "source": [
    "spectrum.plot()\n",
    "plt.axis([0, 25000, 0 ,2500])\n",
    "plt.grid(True)\n",
    "decorate(xlabel='Time (s)')"
   ]
  },
  {
   "cell_type": "code",
   "execution_count": null,
   "id": "7930bca4-0432-4f11-aada-4b353bdbbf58",
   "metadata": {},
   "outputs": [],
   "source": [
    "fin = spectrum.make_wave()"
   ]
  },
  {
   "cell_type": "code",
   "execution_count": null,
   "id": "111d265c-32a7-4b53-bd8c-145421a7f5a7",
   "metadata": {},
   "outputs": [],
   "source": [
    "fin.make_audio()"
   ]
  },
  {
   "cell_type": "code",
   "execution_count": null,
   "id": "d71e0b53-b9fd-4b9d-8fba-675bf752b125",
   "metadata": {},
   "outputs": [],
   "source": [
    "fin.plot()\n",
    "plt.grid(True)\n",
    "decorate(xlabel='Time (s)')"
   ]
  }
 ],
 "metadata": {
  "kernelspec": {
   "display_name": "Python 3 (ipykernel)",
   "language": "python",
   "name": "python3"
  },
  "language_info": {
   "codemirror_mode": {
    "name": "ipython",
    "version": 3
   },
   "file_extension": ".py",
   "mimetype": "text/x-python",
   "name": "python",
   "nbconvert_exporter": "python",
   "pygments_lexer": "ipython3",
   "version": "3.9.13"
  }
 },
 "nbformat": 4,
 "nbformat_minor": 5
}
