{
 "cells": [
  {
   "cell_type": "code",
   "execution_count": null,
   "id": "5baf940a-a390-4247-8464-9999e709c001",
   "metadata": {},
   "outputs": [],
   "source": [
    "import ipywidgets as widgets\n",
    "import thinkdsp as thinkdsp\n",
    "from thinkdsp import read_wave\n",
    "import numpy as np\n",
    "from pydub import AudioSegment\n",
    "from numpy.random import uniform"
   ]
  },
  {
   "cell_type": "code",
   "execution_count": null,
   "id": "eae9adf4-40bf-4968-85b7-d325959cc602",
   "metadata": {},
   "outputs": [],
   "source": [
    "speed = widgets.FloatSlider(\n",
    "    value=1,\n",
    "    min=0.1,\n",
    "    max=2,\n",
    "    step=0.1,\n",
    "    description='Speed:',\n",
    "    disabled=False,\n",
    "    continuous_update=False,\n",
    "    orientation='horizontal',\n",
    "    readout=True,\n",
    "    readout_format='.1f',\n",
    ")\n",
    "octaves = widgets.FloatSlider(\n",
    "    value=1,\n",
    "    min=-3,\n",
    "    max=3,\n",
    "    step=0.1,\n",
    "    description='Octave:',\n",
    "    continuous_update=True,\n",
    "    orientation='horizontal',\n",
    "    readout_format='.1f',\n",
    ")\n",
    "display(speed,octaves)"
   ]
  },
  {
   "cell_type": "code",
   "execution_count": null,
   "id": "570c903c-3ddf-4352-8bdd-9a3087da447a",
   "metadata": {},
   "outputs": [],
   "source": [
    "spd = speed.value\n",
    "octv = octaves.value"
   ]
  },
  {
   "cell_type": "code",
   "execution_count": null,
   "id": "022d9b52-4726-4752-8414-e231becdcce9",
   "metadata": {},
   "outputs": [],
   "source": [
    "spd"
   ]
  },
  {
   "cell_type": "code",
   "execution_count": null,
   "id": "67bceca2-6d02-498c-a54b-c7aba1624f8b",
   "metadata": {},
   "outputs": [],
   "source": [
    "octv"
   ]
  },
  {
   "cell_type": "code",
   "execution_count": null,
   "id": "610ca787-7eb2-49e9-8809-5c8ae5d6f843",
   "metadata": {},
   "outputs": [],
   "source": [
    "filename = 'Panic.wav'\n",
    "sound = AudioSegment.from_file(filename, format=filename[-3:])\n",
    "\n",
    "speed = spd\n",
    "octave = octv\n",
    "for octave in np.linspace(-1,1,21):\n",
    "    new_sample_rate = int(sound.frame_rate * (speed ** octave))\n",
    "    hipitch_sound = sound._spawn(sound.raw_data, overrides={'frame_rate': new_sample_rate})\n",
    "    hipitch_sound = hipitch_sound.set_frame_rate(44100)\n",
    "    hipitch_sound.export(\"out.wav\", format=\"wav\")"
   ]
  },
  {
   "cell_type": "code",
   "execution_count": null,
   "id": "418b1754-7961-4795-be88-d1895c178517",
   "metadata": {},
   "outputs": [],
   "source": [
    "origin = read_wave('Panic.wav')\n",
    "origin.make_audio()"
   ]
  },
  {
   "cell_type": "code",
   "execution_count": null,
   "id": "e962b878-7a06-4506-9f27-f2c830a5bcd3",
   "metadata": {},
   "outputs": [],
   "source": [
    "wave = read_wave('out.wav')\n",
    "wave.make_audio()"
   ]
  }
 ],
 "metadata": {
  "kernelspec": {
   "display_name": "Python 3 (ipykernel)",
   "language": "python",
   "name": "python3"
  },
  "language_info": {
   "codemirror_mode": {
    "name": "ipython",
    "version": 3
   },
   "file_extension": ".py",
   "mimetype": "text/x-python",
   "name": "python",
   "nbconvert_exporter": "python",
   "pygments_lexer": "ipython3",
   "version": "3.9.13"
  }
 },
 "nbformat": 4,
 "nbformat_minor": 5
}
